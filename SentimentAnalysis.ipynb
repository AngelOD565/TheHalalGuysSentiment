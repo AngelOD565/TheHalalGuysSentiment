{
  "nbformat": 4,
  "nbformat_minor": 0,
  "metadata": {
    "colab": {
      "name": "SentimentAnalysis.ipynb",
      "provenance": [],
      "authorship_tag": "ABX9TyPgdsnLbg2i0ctJK7SRouay"
    },
    "kernelspec": {
      "name": "python3",
      "display_name": "Python 3"
    },
    "language_info": {
      "name": "python"
    }
  },
  "cells": [
    {
      "cell_type": "markdown",
      "source": [
        "# **1 Install and Import Dependencies**"
      ],
      "metadata": {
        "id": "JmQ5JYG2oWnk"
      }
    },
    {
      "cell_type": "code",
      "execution_count": null,
      "metadata": {
        "id": "jCO37nZ5n-3a"
      },
      "outputs": [],
      "source": [
        "!pip3 install torch torchvision torchaudio --extra-index-url https://download.pytorch.org/whl/cu116"
      ]
    },
    {
      "cell_type": "code",
      "source": [
        "!pip install transformers requests beautifulsoup4 pandas numpy"
      ],
      "metadata": {
        "id": "ZgbSWaYPoIal"
      },
      "execution_count": null,
      "outputs": []
    },
    {
      "cell_type": "code",
      "source": [
        "from transformers import AutoTokenizer, AutoModelForSequenceClassification\n",
        "import torch\n",
        "import requests\n",
        "from bs4 import BeautifulSoup\n",
        "import re\n",
        "import pandas as pd\n",
        "import numpy as np"
      ],
      "metadata": {
        "id": "WC43bBrSorN9"
      },
      "execution_count": 29,
      "outputs": []
    },
    {
      "cell_type": "markdown",
      "source": [
        "# **2. Instantiate Model**"
      ],
      "metadata": {
        "id": "Jpq4igrGppqy"
      }
    },
    {
      "cell_type": "code",
      "source": [
        "#BERT model for sentiment calculation\n",
        "tokenizer = AutoTokenizer.from_pretrained('nlptown/bert-base-multilingual-uncased-sentiment')\n",
        "\n",
        "model = AutoModelForSequenceClassification.from_pretrained('nlptown/bert-base-multilingual-uncased-sentiment')"
      ],
      "metadata": {
        "id": "hNgylnVYpa--"
      },
      "execution_count": null,
      "outputs": []
    },
    {
      "cell_type": "markdown",
      "source": [
        "# **3. Encode and Calculate Sentiment**"
      ],
      "metadata": {
        "id": "vU2xw-iVquHs"
      }
    },
    {
      "cell_type": "code",
      "source": [
        "tokens = tokenizer.encode('', return_tensors='pt')"
      ],
      "metadata": {
        "id": "WOC_ziMQqnJ1"
      },
      "execution_count": 19,
      "outputs": []
    },
    {
      "cell_type": "code",
      "source": [
        "result = model(tokens)"
      ],
      "metadata": {
        "id": "lxt5vsjTrNsO"
      },
      "execution_count": 20,
      "outputs": []
    },
    {
      "cell_type": "code",
      "source": [
        "#shows sentiment score in logit form\n",
        "result.logits"
      ],
      "metadata": {
        "colab": {
          "base_uri": "https://localhost:8080/"
        },
        "id": "D1bVu1T9r__u",
        "outputId": "fea516bf-a0a2-4f04-e8da-36e02db16cd6"
      },
      "execution_count": 21,
      "outputs": [
        {
          "output_type": "execute_result",
          "data": {
            "text/plain": [
              "tensor([[-0.5486, -0.4852,  0.2038,  0.3929,  0.2652]],\n",
              "       grad_fn=<AddmmBackward0>)"
            ]
          },
          "metadata": {},
          "execution_count": 21
        }
      ]
    },
    {
      "cell_type": "code",
      "source": [
        "#decodes logit back into an integer score from 1-5\n",
        "int(torch.argmax(result.logits))+1"
      ],
      "metadata": {
        "colab": {
          "base_uri": "https://localhost:8080/"
        },
        "id": "0WP2LPJFsC_6",
        "outputId": "75fa8935-22d8-42f8-f51d-7f3fd059e8b6"
      },
      "execution_count": 22,
      "outputs": [
        {
          "output_type": "execute_result",
          "data": {
            "text/plain": [
              "4"
            ]
          },
          "metadata": {},
          "execution_count": 22
        }
      ]
    },
    {
      "cell_type": "markdown",
      "source": [
        "# **4. Collect Reviews**"
      ],
      "metadata": {
        "id": "P7y74SiVt21h"
      }
    },
    {
      "cell_type": "code",
      "source": [
        "#code for webscraper\n",
        "r = requests.get('https://www.yelp.com/biz/the-halal-guys-orlando')\n",
        "soup = BeautifulSoup(r.text, 'html.parser')\n",
        "regex = re.compile('.*comment.*')\n",
        "results = soup.find_all('p', {'class':regex})\n",
        "reviews = [result.text for result in results]"
      ],
      "metadata": {
        "id": "eWvz7_vMsLrB"
      },
      "execution_count": 25,
      "outputs": []
    },
    {
      "cell_type": "code",
      "source": [
        "reviews"
      ],
      "metadata": {
        "id": "RVm2D_q3uAh_"
      },
      "execution_count": null,
      "outputs": []
    },
    {
      "cell_type": "markdown",
      "source": [
        "# **5. Load Reviews into DataFrame and Score**"
      ],
      "metadata": {
        "id": "-TynIIaVxYR0"
      }
    },
    {
      "cell_type": "code",
      "source": [
        "res = pd.DataFrame(np.array(reviews), columns= ['review'])"
      ],
      "metadata": {
        "id": "eSoC3LfMvExj"
      },
      "execution_count": 35,
      "outputs": []
    },
    {
      "cell_type": "code",
      "source": [
        "#removes comments extracted that start with 'Hi', which are typically replies from host restaurant and are not actually reviews\n",
        "hostcomment = res['review'].str.startswith('Hi')\n",
        "df = res[~hostcomment]"
      ],
      "metadata": {
        "id": "xl3cP0VexjXZ"
      },
      "execution_count": 37,
      "outputs": []
    },
    {
      "cell_type": "code",
      "source": [
        "df"
      ],
      "metadata": {
        "id": "FaCe282exkW0"
      },
      "execution_count": null,
      "outputs": []
    },
    {
      "cell_type": "code",
      "source": [
        "#function for feeding review into sentiment analysis\n",
        "def sentiment_score(review):\n",
        "  tokens = tokenizer.encode(review, return_tensors='pt')\n",
        "  result = model(tokens)\n",
        "  return int(torch.argmax(result.logits))+1"
      ],
      "metadata": {
        "id": "jbl1kBVg7-1n"
      },
      "execution_count": 41,
      "outputs": []
    },
    {
      "cell_type": "code",
      "source": [
        "sentiment_score(df['review'].iloc[1])"
      ],
      "metadata": {
        "id": "sEss__8b8-EO"
      },
      "execution_count": 44,
      "outputs": []
    },
    {
      "cell_type": "code",
      "source": [
        "df['sentiment'] = df['review'].apply(lambda x: sentiment_score(x[:512]))"
      ],
      "metadata": {
        "id": "ZWWLg2hg_1Xx"
      },
      "execution_count": null,
      "outputs": []
    },
    {
      "cell_type": "code",
      "source": [
        "df"
      ],
      "metadata": {
        "id": "lPPHV353AVXN"
      },
      "execution_count": null,
      "outputs": []
    }
  ]
}